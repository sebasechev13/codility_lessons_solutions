{
  "nbformat": 4,
  "nbformat_minor": 0,
  "metadata": {
    "colab": {
      "name": "Codility_Answers.ipynb",
      "provenance": [],
      "collapsed_sections": [],
      "authorship_tag": "ABX9TyMzp410WuAVJI6vu84Y/X4a",
      "include_colab_link": true
    },
    "kernelspec": {
      "name": "python3",
      "display_name": "Python 3"
    }
  },
  "cells": [
    {
      "cell_type": "markdown",
      "metadata": {
        "id": "view-in-github",
        "colab_type": "text"
      },
      "source": [
        "<a href=\"https://colab.research.google.com/github/sebasechev13/codility_lessons_solutions/blob/master/Codility_Answers.ipynb\" target=\"_parent\"><img src=\"https://colab.research.google.com/assets/colab-badge.svg\" alt=\"Open In Colab\"/></a>"
      ]
    },
    {
      "cell_type": "markdown",
      "metadata": {
        "id": "S5sCXQWMyRcm",
        "colab_type": "text"
      },
      "source": [
        "Lesson 1 Question 1: Binary Gap"
      ]
    },
    {
      "cell_type": "code",
      "metadata": {
        "id": "lX0NFiayyRD3",
        "colab_type": "code",
        "colab": {}
      },
      "source": [
        "n = 33888484\n",
        "def(n):\n",
        "  max_bin_gap = max(bin(n)[2:].strip('0').strip('1').split('1'))\n",
        "  return max_bin_gap"
      ],
      "execution_count": 0,
      "outputs": []
    },
    {
      "cell_type": "markdown",
      "metadata": {
        "id": "k_RYUCUzyNSg",
        "colab_type": "text"
      },
      "source": [
        "Lesson 2 Question 1: CyclicRotation\n"
      ]
    },
    {
      "cell_type": "code",
      "metadata": {
        "id": "ti7Ry45OyMpg",
        "colab_type": "code",
        "colab": {}
      },
      "source": [
        "A = [3, 8, 9, 7, 6]\n",
        "K =3 \n",
        "def solution(A,K):\n",
        "  if len(A) == 0:\n",
        "    return A\n",
        "  K=K%len(A)\n",
        "  return A[-K:]+A[:-K]\n"
      ],
      "execution_count": 0,
      "outputs": []
    },
    {
      "cell_type": "markdown",
      "metadata": {
        "id": "B3yszTQuyFq-",
        "colab_type": "text"
      },
      "source": [
        "Lesson 2 Question 2: OddOccurrencesInArray\n"
      ]
    },
    {
      "cell_type": "code",
      "metadata": {
        "id": "X7lcez096Gnn",
        "colab_type": "code",
        "colab": {}
      },
      "source": [
        "A = [9,3,9,3,7,9,9]\n",
        "A =sorted(A)\n",
        "def solution3(A):\n",
        "  if len(A) == 1:\n",
        "    return A[0]\n",
        "  for i in range(0,len(A),2):\n",
        "    if i+1 == len(A):\n",
        "      return A[i]\n",
        "\n",
        "    if A[i]  != A[i+1]:\n",
        "      return A[i]\n",
        "  \n"
      ],
      "execution_count": 0,
      "outputs": []
    },
    {
      "cell_type": "markdown",
      "metadata": {
        "id": "FIyC8FH2x59b",
        "colab_type": "text"
      },
      "source": [
        "Lesson 3 Question 1 :Frog Jump\n"
      ]
    },
    {
      "cell_type": "code",
      "metadata": {
        "id": "lnrsVLm9-n6Z",
        "colab_type": "code",
        "colab": {}
      },
      "source": [
        "import math\n",
        "def solution4(X,Y,D):\n",
        "  return math.ceil((Y-X)/D)\n"
      ],
      "execution_count": 0,
      "outputs": []
    },
    {
      "cell_type": "markdown",
      "metadata": {
        "id": "WJba3Zy4vEew",
        "colab_type": "text"
      },
      "source": [
        "Lesson 3 Question 2 :\n",
        "PermMissingElem\n"
      ]
    },
    {
      "cell_type": "code",
      "metadata": {
        "id": "wsHlIngTm59w",
        "colab_type": "code",
        "outputId": "a186992d-225c-4650-df30-2246e4e27d9e",
        "colab": {
          "base_uri": "https://localhost:8080/",
          "height": 34
        }
      },
      "source": [
        "X = [1,2,3,5,8,6,7]\n",
        "def solution5(A):\n",
        "    n = len(A)+1\n",
        "    \n",
        "    supposed_sum = n*(n+1)//2\n",
        "    return supposed_sum - sum(A)\n",
        "solution5(X)\n"
      ],
      "execution_count": 23,
      "outputs": [
        {
          "output_type": "execute_result",
          "data": {
            "text/plain": [
              "4"
            ]
          },
          "metadata": {
            "tags": []
          },
          "execution_count": 23
        }
      ]
    },
    {
      "cell_type": "markdown",
      "metadata": {
        "id": "DvWI-MBlu2Sj",
        "colab_type": "text"
      },
      "source": [
        "Lesson 3 Question 3\n",
        "TapeEquilibrium question "
      ]
    },
    {
      "cell_type": "code",
      "metadata": {
        "id": "2oDL0OYXm6Q_",
        "colab_type": "code",
        "colab": {}
      },
      "source": [
        "#practice\n",
        "a = [2,4,1,65,8,6,8,0,9]\n",
        "sumr = sum(a)\n",
        "result = None\n",
        "suml = 0\n",
        "for i in range(len(a)-1):\n",
        "  sumr -=a[i]\n",
        "  suml += a[i]\n",
        "\n",
        "  if result == None:\n",
        "    result = abs(sumr - suml)\n",
        "  else:\n",
        "    result = min(result, abs(sumr - suml))"
      ],
      "execution_count": 0,
      "outputs": []
    },
    {
      "cell_type": "code",
      "metadata": {
        "id": "CqMHRe9loc5I",
        "colab_type": "code",
        "outputId": "3f3987bb-a0ae-419b-c41c-ed9ebca66f92",
        "colab": {
          "base_uri": "https://localhost:8080/",
          "height": 34
        }
      },
      "source": [
        ""
      ],
      "execution_count": 0,
      "outputs": [
        {
          "output_type": "execute_result",
          "data": {
            "text/plain": [
              "41"
            ]
          },
          "metadata": {
            "tags": []
          },
          "execution_count": 4
        }
      ]
    },
    {
      "cell_type": "code",
      "metadata": {
        "id": "H4KTy830ohZm",
        "colab_type": "code",
        "colab": {}
      },
      "source": [
        ""
      ],
      "execution_count": 0,
      "outputs": []
    }
  ]
}